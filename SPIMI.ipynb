{
 "cells": [
  {
   "cell_type": "markdown",
   "id": "7c9e9ac1-11f3-4dd9-b24c-54f72982bfc7",
   "metadata": {},
   "source": [
    "# Single Pass In Memory Indexing"
   ]
  },
  {
   "cell_type": "code",
   "execution_count": 1,
   "id": "74c29131-8867-435c-87d3-03c046c2b728",
   "metadata": {},
   "outputs": [],
   "source": [
    "import os"
   ]
  },
  {
   "cell_type": "code",
   "execution_count": 6,
   "id": "17c14dcb-c99c-459e-bc90-353a71bba848",
   "metadata": {},
   "outputs": [],
   "source": [
    "class SPIMI:\n",
    "\n",
    "    def __init__(self):\n",
    "        self.index = {}\n",
    "\n",
    "    def spimiInvert(self):\n",
    "        files = os.listdir('Cranfield Data Set')[:50]\n",
    "        docs = []\n",
    "        terms = []\n",
    "        for file in files:\n",
    "            with open(f\"Cranfield Data Set/{file}\", \"r\") as f:\n",
    "                text = f.read().lower()\n",
    "                docs.append(text)\n",
    "                terms.extend(text.split())\n",
    "        terms = sorted(list(set(terms)))  \n",
    "        for term in terms:\n",
    "            for docId in range(50):\n",
    "                if term in docs[docId]:\n",
    "                    if term in self.index:\n",
    "                        self.index[term].append(docId+1)\n",
    "                    else:\n",
    "                        self.index[term] = [docId+1]\n",
    "        self.index = dict(sorted(self.index.items()))\n",
    "        with open(\"Sample/SPIMIMerge.csv\", \"w\") as f:\n",
    "            for k, v in self.index.items():\n",
    "                s = k + ', '\n",
    "                s += ', '.join([str(j) for j in v[:-1]])\n",
    "                s += f', {v[-1]}\\n'\n",
    "                f.write(s)"
   ]
  },
  {
   "cell_type": "code",
   "execution_count": 7,
   "id": "472668d3-d02f-4030-9d9f-d49a4bb07964",
   "metadata": {},
   "outputs": [],
   "source": [
    "spimi = SPIMI()\n",
    "spimi.spimiInvert()"
   ]
  }
 ],
 "metadata": {
  "kernelspec": {
   "display_name": "Python 3 (ipykernel)",
   "language": "python",
   "name": "python3"
  },
  "language_info": {
   "codemirror_mode": {
    "name": "ipython",
    "version": 3
   },
   "file_extension": ".py",
   "mimetype": "text/x-python",
   "name": "python",
   "nbconvert_exporter": "python",
   "pygments_lexer": "ipython3",
   "version": "3.11.4"
  }
 },
 "nbformat": 4,
 "nbformat_minor": 5
}
