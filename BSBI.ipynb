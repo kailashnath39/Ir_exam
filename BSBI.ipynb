{
 "cells": [
  {
   "cell_type": "markdown",
   "id": "2d90ad95",
   "metadata": {},
   "source": [
    "# Block Sort Based Indexing"
   ]
  },
  {
   "cell_type": "code",
   "execution_count": 1,
   "id": "c116d3f2-9b08-4d8f-adb2-68be29cd5423",
   "metadata": {},
   "outputs": [],
   "source": [
    "import os"
   ]
  },
  {
   "cell_type": "code",
   "execution_count": 8,
   "id": "a57b3eed-2b0c-4132-9915-62de3b437424",
   "metadata": {},
   "outputs": [],
   "source": [
    "class BSBI:\n",
    "\n",
    "    def __init__(self):\n",
    "        self.termId = {}\n",
    "        self.numTerms = 0\n",
    "\n",
    "    def parseBlock(self, docsBlock, blockNum):\n",
    "        terms = []\n",
    "        for i in range(len(docsBlock)):\n",
    "            text = docsBlock[i]\n",
    "            terms.extend(text.split())\n",
    "\n",
    "        terms = sorted(list(set(terms)))\n",
    "        for term in terms:\n",
    "            if term not in self.termId:\n",
    "                self.numTerms += 1\n",
    "                self.termId[term] = self.numTerms\n",
    "\n",
    "        index = {}\n",
    "        \n",
    "        for i in range(len(terms)):\n",
    "            for j in range(len(docsBlock)):\n",
    "                if terms[i] in docsBlock[j]:\n",
    "                    if terms[i] in index:\n",
    "                        index[terms[i]].append(j+1)\n",
    "                    else:\n",
    "                        index[terms[i]] = [j+1]\n",
    "        index = dict(sorted(index.items()))\n",
    "        strs = []\n",
    "        with open(f\"Sample/doc{blockNum}.csv\", \"w\") as f:\n",
    "            for k, v in index.items():\n",
    "                for doc in v:\n",
    "                    strs.append(f\"{self.termId[k]}, {doc}\\n\")\n",
    "            strs[-1] = strs[-1].replace('\\n','')\n",
    "            f.writelines(strs)\n",
    "\n",
    "    def bsbiInvert(self, numBlocks):\n",
    "        blockSize = 50 // numBlocks\n",
    "        files = os.listdir('cranfieldDocs')\n",
    "        for i in range(numBlocks):\n",
    "            docs = []\n",
    "            for j in range(blockSize):\n",
    "                with open(f\"cranfieldDocs/{files[i*blockSize + j]}\") as f:\n",
    "                    docs.append(f.read())\n",
    "            self.parseBlock(docs,i)\n",
    "        \n",
    "    def buildIndex(self, numBlocks):\n",
    "        self.bsbiInvert(numBlocks)\n",
    "\n",
    "        index = {}\n",
    "\n",
    "        for i in range(numBlocks):\n",
    "            with open(f\"Sample/doc{i}.csv\", \"r\") as f:\n",
    "                text = f.read()\n",
    "                data = [[int(x) for x in l.split(', ')] for l in text.split('\\n')]\n",
    "                for d in data:\n",
    "                    val = list(self.termId.keys())[list(self.termId.values()).index(d[0])]\n",
    "                    if val not in index:\n",
    "                        index[val] = [d[1]]\n",
    "                    else:\n",
    "                        index[val].append(d[1])\n",
    "                    index[val] = sorted(list(set(index[val])))\n",
    "        myKeys = list(index.keys())\n",
    "        myKeys.sort()\n",
    "        sortedIndex = {i: index[i] for i in myKeys}\n",
    "        with open(f\"Sample/Merged.csv\", \"w\") as f:\n",
    "            for k, v in sortedIndex.items():\n",
    "                for doc in v:\n",
    "                    s = f\"{self.termId[k]}, {doc}\\n\"\n",
    "                    f.write(s)"
   ]
  },
  {
   "cell_type": "code",
   "execution_count": 9,
   "id": "a135114c-2c9b-4bbc-8746-896178c75a40",
   "metadata": {},
   "outputs": [],
   "source": [
    "bsbi = BSBI()"
   ]
  },
  {
   "cell_type": "code",
   "execution_count": 10,
   "id": "540c3ea1-452c-4d6c-83d2-ff024182156f",
   "metadata": {},
   "outputs": [
    {
     "ename": "FileNotFoundError",
     "evalue": "[Errno 2] No such file or directory: 'Sample/doc0.csv'",
     "output_type": "error",
     "traceback": [
      "\u001b[1;31m---------------------------------------------------------------------------\u001b[0m",
      "\u001b[1;31mFileNotFoundError\u001b[0m                         Traceback (most recent call last)",
      "Cell \u001b[1;32mIn[10], line 1\u001b[0m\n\u001b[1;32m----> 1\u001b[0m \u001b[43mbsbi\u001b[49m\u001b[38;5;241;43m.\u001b[39;49m\u001b[43mbuildIndex\u001b[49m\u001b[43m(\u001b[49m\u001b[38;5;241;43m10\u001b[39;49m\u001b[43m)\u001b[49m\n",
      "Cell \u001b[1;32mIn[8], line 48\u001b[0m, in \u001b[0;36mBSBI.buildIndex\u001b[1;34m(self, numBlocks)\u001b[0m\n\u001b[0;32m     47\u001b[0m \u001b[38;5;28;01mdef\u001b[39;00m \u001b[38;5;21mbuildIndex\u001b[39m(\u001b[38;5;28mself\u001b[39m, numBlocks):\n\u001b[1;32m---> 48\u001b[0m     \u001b[38;5;28;43mself\u001b[39;49m\u001b[38;5;241;43m.\u001b[39;49m\u001b[43mbsbiInvert\u001b[49m\u001b[43m(\u001b[49m\u001b[43mnumBlocks\u001b[49m\u001b[43m)\u001b[49m\n\u001b[0;32m     50\u001b[0m     index \u001b[38;5;241m=\u001b[39m {}\n\u001b[0;32m     52\u001b[0m     \u001b[38;5;28;01mfor\u001b[39;00m i \u001b[38;5;129;01min\u001b[39;00m \u001b[38;5;28mrange\u001b[39m(numBlocks):\n",
      "Cell \u001b[1;32mIn[8], line 45\u001b[0m, in \u001b[0;36mBSBI.bsbiInvert\u001b[1;34m(self, numBlocks)\u001b[0m\n\u001b[0;32m     43\u001b[0m     \u001b[38;5;28;01mwith\u001b[39;00m \u001b[38;5;28mopen\u001b[39m(\u001b[38;5;124mf\u001b[39m\u001b[38;5;124m\"\u001b[39m\u001b[38;5;124mcranfieldDocs/\u001b[39m\u001b[38;5;132;01m{\u001b[39;00mfiles[i\u001b[38;5;241m*\u001b[39mblockSize\u001b[38;5;250m \u001b[39m\u001b[38;5;241m+\u001b[39m\u001b[38;5;250m \u001b[39mj]\u001b[38;5;132;01m}\u001b[39;00m\u001b[38;5;124m\"\u001b[39m) \u001b[38;5;28;01mas\u001b[39;00m f:\n\u001b[0;32m     44\u001b[0m         docs\u001b[38;5;241m.\u001b[39mappend(f\u001b[38;5;241m.\u001b[39mread())\n\u001b[1;32m---> 45\u001b[0m \u001b[38;5;28;43mself\u001b[39;49m\u001b[38;5;241;43m.\u001b[39;49m\u001b[43mparseBlock\u001b[49m\u001b[43m(\u001b[49m\u001b[43mdocs\u001b[49m\u001b[43m,\u001b[49m\u001b[43mi\u001b[49m\u001b[43m)\u001b[49m\n",
      "Cell \u001b[1;32mIn[8], line 30\u001b[0m, in \u001b[0;36mBSBI.parseBlock\u001b[1;34m(self, docsBlock, blockNum)\u001b[0m\n\u001b[0;32m     28\u001b[0m index \u001b[38;5;241m=\u001b[39m \u001b[38;5;28mdict\u001b[39m(\u001b[38;5;28msorted\u001b[39m(index\u001b[38;5;241m.\u001b[39mitems()))\n\u001b[0;32m     29\u001b[0m strs \u001b[38;5;241m=\u001b[39m []\n\u001b[1;32m---> 30\u001b[0m \u001b[38;5;28;01mwith\u001b[39;00m \u001b[38;5;28;43mopen\u001b[39;49m\u001b[43m(\u001b[49m\u001b[38;5;124;43mf\u001b[39;49m\u001b[38;5;124;43m\"\u001b[39;49m\u001b[38;5;124;43mSample/doc\u001b[39;49m\u001b[38;5;132;43;01m{\u001b[39;49;00m\u001b[43mblockNum\u001b[49m\u001b[38;5;132;43;01m}\u001b[39;49;00m\u001b[38;5;124;43m.csv\u001b[39;49m\u001b[38;5;124;43m\"\u001b[39;49m\u001b[43m,\u001b[49m\u001b[43m \u001b[49m\u001b[38;5;124;43m\"\u001b[39;49m\u001b[38;5;124;43mw\u001b[39;49m\u001b[38;5;124;43m\"\u001b[39;49m\u001b[43m)\u001b[49m \u001b[38;5;28;01mas\u001b[39;00m f:\n\u001b[0;32m     31\u001b[0m     \u001b[38;5;28;01mfor\u001b[39;00m k, v \u001b[38;5;129;01min\u001b[39;00m index\u001b[38;5;241m.\u001b[39mitems():\n\u001b[0;32m     32\u001b[0m         \u001b[38;5;28;01mfor\u001b[39;00m doc \u001b[38;5;129;01min\u001b[39;00m v:\n",
      "File \u001b[1;32m~\\AppData\\Roaming\\Python\\Python311\\site-packages\\IPython\\core\\interactiveshell.py:284\u001b[0m, in \u001b[0;36m_modified_open\u001b[1;34m(file, *args, **kwargs)\u001b[0m\n\u001b[0;32m    277\u001b[0m \u001b[38;5;28;01mif\u001b[39;00m file \u001b[38;5;129;01min\u001b[39;00m {\u001b[38;5;241m0\u001b[39m, \u001b[38;5;241m1\u001b[39m, \u001b[38;5;241m2\u001b[39m}:\n\u001b[0;32m    278\u001b[0m     \u001b[38;5;28;01mraise\u001b[39;00m \u001b[38;5;167;01mValueError\u001b[39;00m(\n\u001b[0;32m    279\u001b[0m         \u001b[38;5;124mf\u001b[39m\u001b[38;5;124m\"\u001b[39m\u001b[38;5;124mIPython won\u001b[39m\u001b[38;5;124m'\u001b[39m\u001b[38;5;124mt let you open fd=\u001b[39m\u001b[38;5;132;01m{\u001b[39;00mfile\u001b[38;5;132;01m}\u001b[39;00m\u001b[38;5;124m by default \u001b[39m\u001b[38;5;124m\"\u001b[39m\n\u001b[0;32m    280\u001b[0m         \u001b[38;5;124m\"\u001b[39m\u001b[38;5;124mas it is likely to crash IPython. If you know what you are doing, \u001b[39m\u001b[38;5;124m\"\u001b[39m\n\u001b[0;32m    281\u001b[0m         \u001b[38;5;124m\"\u001b[39m\u001b[38;5;124myou can use builtins\u001b[39m\u001b[38;5;124m'\u001b[39m\u001b[38;5;124m open.\u001b[39m\u001b[38;5;124m\"\u001b[39m\n\u001b[0;32m    282\u001b[0m     )\n\u001b[1;32m--> 284\u001b[0m \u001b[38;5;28;01mreturn\u001b[39;00m \u001b[43mio_open\u001b[49m\u001b[43m(\u001b[49m\u001b[43mfile\u001b[49m\u001b[43m,\u001b[49m\u001b[43m \u001b[49m\u001b[38;5;241;43m*\u001b[39;49m\u001b[43margs\u001b[49m\u001b[43m,\u001b[49m\u001b[43m \u001b[49m\u001b[38;5;241;43m*\u001b[39;49m\u001b[38;5;241;43m*\u001b[39;49m\u001b[43mkwargs\u001b[49m\u001b[43m)\u001b[49m\n",
      "\u001b[1;31mFileNotFoundError\u001b[0m: [Errno 2] No such file or directory: 'Sample/doc0.csv'"
     ]
    }
   ],
   "source": [
    "bsbi.buildIndex(10)"
   ]
  },
  {
   "cell_type": "code",
   "execution_count": null,
   "id": "75e95cbd",
   "metadata": {},
   "outputs": [],
   "source": []
  }
 ],
 "metadata": {
  "kernelspec": {
   "display_name": "Python 3 (ipykernel)",
   "language": "python",
   "name": "python3"
  },
  "language_info": {
   "codemirror_mode": {
    "name": "ipython",
    "version": 3
   },
   "file_extension": ".py",
   "mimetype": "text/x-python",
   "name": "python",
   "nbconvert_exporter": "python",
   "pygments_lexer": "ipython3",
   "version": "3.11.5"
  }
 },
 "nbformat": 4,
 "nbformat_minor": 5
}
