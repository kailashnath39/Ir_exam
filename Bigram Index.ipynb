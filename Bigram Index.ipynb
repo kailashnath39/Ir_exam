{
 "cells": [
  {
   "cell_type": "code",
   "execution_count": 54,
   "id": "11344473",
   "metadata": {},
   "outputs": [],
   "source": [
    "def wild_card_evaluation(query,d,d1):\n",
    "        if query[-1] == '*':\n",
    "            query = '$' + query[:-2]\n",
    "            tokens = [query[i:i+2] for i in range(len(query)-1)]\n",
    "            a    \n",
    "        elif query[0] == '*':\n",
    "            query = query[1:] + '$'\n",
    "            tokens = [query[i:i+2] for i in range(len(query)-1)]\n",
    "             \n",
    "        else:\n",
    "            query1,query2 = query.split('*')\n",
    "            query1 = '$' + query.replace('*','')\n",
    "            query2 = query.replace('*','') + '$'\n",
    "            t1 = [query1[i:i+2] for i in range(len(query)-1)]\n",
    "            t2 = [query2[i:i+2] for i in range(len(query)-1)]\n",
    "            tokens = t1+t2\n",
    "            act_terms = [term for term in terms if term.startswith(qt[0]) and term.endswith(qt[1])] \n",
    "        terms = []\n",
    "        for t in tokens:\n",
    "            if t in d1:\n",
    "                for k in d1[t]:\n",
    "                    if k not in terms:\n",
    "                        terms.append(k)\n",
    "        if query[-1] == '$':\n",
    "            act_terms = [term for term in terms if term.endswith(query)]\n",
    "        elif query[0] == '$':\n",
    "            act_terms = [term for term in terms if term.startswith(query)]\n",
    "        else:\n",
    "            \n",
    "        return act_terms"
   ]
  },
  {
   "cell_type": "code",
   "execution_count": 52,
   "id": "30a52cc2",
   "metadata": {},
   "outputs": [],
   "source": [
    "import re,os\n",
    "docs = []\n",
    "terms = set()\n",
    "# l = input(\"Enter the documents : \").split()\n",
    "l = os.listdir('documents')\n",
    "s = 'documents'\n",
    "for i in l:\n",
    "    file = open(s+'/'+i,'r').read().lower()\n",
    "    content = re.sub(\"[^a-z0-9]\",\" \",file).split()\n",
    "    terms.update(content)\n",
    "    docs.append(set(content))\n",
    "    \n",
    "d = {}\n",
    "for i in terms:\n",
    "    post_list = []\n",
    "    for j in range(len(docs)):\n",
    "        if i in docs[j]:\n",
    "            post_list.append(l[j])\n",
    "    d[i] = set(post_list)\n",
    "\n",
    "d1 = {}\n",
    "for i in terms:\n",
    "    x = '$'+i+'$'\n",
    "    bigrams = [x[j:j+2] for j in range(0,len(x)-1)]\n",
    "    for j in bigrams:\n",
    "        if j not in d1:\n",
    "            d1.update({j: [i]})\n",
    "        else:\n",
    "            d1[j].append(i)"
   ]
  },
  {
   "cell_type": "code",
   "execution_count": 57,
   "id": "627f46cc",
   "metadata": {},
   "outputs": [
    {
     "name": "stdout",
     "output_type": "stream",
     "text": [
      "['$*', '*d']\n",
      "[]\n",
      "[]\n"
     ]
    }
   ],
   "source": [
    "print(wild_card_evaluation(\"*d\",d,d1))\n",
    "# print(d1)\n",
    "# print(d1['ne'])"
   ]
  },
  {
   "cell_type": "code",
   "execution_count": 36,
   "id": "7f852d04",
   "metadata": {},
   "outputs": [
    {
     "name": "stdout",
     "output_type": "stream",
     "text": [
      "['heavenly', 'heart', 'her', 'hold', 'how', 'hell', 'his', 'he', 'him', 'heaven', 'here', 'habit', 'have']\n",
      "['heavenly', 'heart', 'cytherea', 'her', 'smother', 'hell', 'there', 'whether', 'whether', 'rhetoric', 'thee', 'he', 'where', 'heaven', 'touches', 'here', 'comprehend', 'then', 'the', 'when', 'wherefore', 'she', 'another', 'therefore']\n",
      "['swear', 'heavenly', 'swears', 'heart', 'cytherea', 'ear', 'break', 'pleasures', 'leaves', 'learned', 'each', 'heaven', 'dreadful', 'beauty', 'speaking', 'earthly', 'breath', 'earth', 'years']\n",
      "['swear', 'swears', 'heart', 'ear', 'toward', 'parts', 'learned', 'paradise', 'froward', 'art', 'mark', 'earthly', 'earth', 'years', 'argument']\n",
      "['heart', 'parts', 'art', 'court', 'earthly', 'comfort', 'earth']\n"
     ]
    }
   ],
   "source": [
    "x = '$heart'\n",
    "t = [x[i:i+2] for i in range(len(x)-1)]\n",
    "# print(d1)\n",
    "for i in t:\n",
    "    print(d1[i])"
   ]
  }
 ],
 "metadata": {
  "kernelspec": {
   "display_name": "Python 3 (ipykernel)",
   "language": "python",
   "name": "python3"
  },
  "language_info": {
   "codemirror_mode": {
    "name": "ipython",
    "version": 3
   },
   "file_extension": ".py",
   "mimetype": "text/x-python",
   "name": "python",
   "nbconvert_exporter": "python",
   "pygments_lexer": "ipython3",
   "version": "3.11.5"
  }
 },
 "nbformat": 4,
 "nbformat_minor": 5
}
