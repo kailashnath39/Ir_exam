{
 "cells": [
  {
   "cell_type": "markdown",
   "id": "acc9298b-0321-4f4f-8926-0be30389f3c0",
   "metadata": {},
   "source": [
    "# 7. a) Build a Bigram Index"
   ]
  },
  {
   "cell_type": "code",
   "execution_count": 1,
   "id": "68eb64ac-889b-4432-9421-799b3dfd43b1",
   "metadata": {},
   "outputs": [],
   "source": [
    "import os"
   ]
  },
  {
   "cell_type": "code",
   "execution_count": 20,
   "id": "e7c5b48f-efe7-4885-bfcb-fcfc891c5041",
   "metadata": {},
   "outputs": [],
   "source": [
    "class BigramIndex:\n",
    "\n",
    "    def __init__(self):\n",
    "        self.index = {}\n",
    "        self.invIdx = {}\n",
    "        self.docs = []\n",
    "        \n",
    "    def buildIndex(self):\n",
    "        files = os.listdir('documents')\n",
    "        for i in range(5):\n",
    "            with open(f\"documents\\{files[i]}\") as f:\n",
    "                text = f.read()\n",
    "                text = text.lower()\n",
    "                self.docs.append(text)\n",
    "                text = sorted(text.split())\n",
    "            for term in text:\n",
    "                if term in self.invIdx:\n",
    "                    if i not in self.invIdx[term]:\n",
    "                        self.invIdx[term].append(i)\n",
    "                else:\n",
    "                    self.invIdx[term] = [i]\n",
    "        for k in self.invIdx.keys():\n",
    "            term = '$' + k + '$'\n",
    "            tokens = [term[i:i+2] for i in range(len(term)-1)]\n",
    "            for i in tokens:\n",
    "                if i not in self.index:\n",
    "                    self.index.update({i: [k]})\n",
    "                else:\n",
    "                    self.index[i].append(k)\n",
    "        print(self.index)"
   ]
  },
  {
   "cell_type": "code",
   "execution_count": 21,
   "id": "2fab8c16-1e55-4ec5-894d-1fd674ea6f19",
   "metadata": {},
   "outputs": [
    {
     "name": "stdout",
     "output_type": "stream",
     "text": [
      "{'$a': ['a', 'age,', 'although', 'am', 'and', 'angel', \"another's\", 'all', 'an', 'argument,', 'adonis,', 'ah,', 'allure', 'as', 'at', 'away;', 'admire:', 'anger', 'art', 'art,'], 'a$': ['a'], 'ag': ['age,'], 'ge': ['age,', 'forgeries.', 'angel', 'suggest', 'gentle', 'anger', 'knowledge'], 'e,': ['age,', 'love,', 'me,', 'tongue,', 'have,', 'side,', 'broke,', 'eye,', 'prove,', 'shine,', 'there,--', 'praise,'], ',$': ['age,', 'best,', 'her,', 'lies,', 'love,', 'me,', 'o,', 'tongue,', 'truth,', 'young,', 'youth,', 'despair,', 'devil,', 'doubt,', 'fair,', 'fiend,', 'friend,', 'have,', 'hell,', 'know,', 'may,', 'side,', 'argument,', 'breath,', 'broke,', 'broken,', 'earthly,', 'eye,', 'goddess,', 'oath,', 'prove,', 'shine,', 'sun,', 'then,', 'adonis,', 'ah,', 'back,', 'bait,', 'conceit,', 'cytherea,', 'fresh,', 'green,', 'heart,', 'look,', 'lovely,', 'proffer,', 'queen,', 'art,', 'bent,', 'eyes,', 'forsworn,', 'hold,', 'leaves,', 'mark,', 'oaks,', 'praise,', 'seems,', 'thoughts,', 'thunder,', 'which,', 'wrong,'], 'al': ['although', 'false', 'false-speaking', 'female', 'shall', 'all', 'exhale', 'allure', 'celestial'], 'lt': ['although', 'faults', 'fault'], 'th': ['although', \"smother'd\", 'soothing', 'that', 'the', 'therefore', 'think', 'thinking', 'thinks', 'though', 'thus', 'truth,', 'with', 'youth,', \"another's\", 'both', 'tempteth', 'truth', 'whether', 'breath', 'breath,', 'doth', 'earth', 'earthly,', 'oath,', 'thee', 'thee:', 'then', 'then,', 'thine', 'this', 'thou', 'thy', 'cytherea,', 'there,--', 'earthly', 'faith', 'those', 'thoughts,', 'thunder,', 'without'], 'ho': ['although', 'though', 'hold', 'thou', 'whom', 'showed', 'hold,', 'how', 'those', 'thoughts,', 'without'], 'ou': ['although', 'our', 'outfacing', 'though', 'young,', 'young?', 'youth,', \"colour'd\", 'doubt,', 'out.', 'would', 'could', 'thou', 'vapour', 'court', 'touch', \"touch'd\", 'touches', 'young', 'soul', 'thoughts,', 'without'], 'ug': ['although', 'though', 'suggest', 'thoughts,'], 'gh': ['although', 'might', 'though', 'right', 'delight', 'lightning', 'thoughts,'], 'h$': ['although', 'though', 'with', 'both', 'each', 'tempteth', 'truth', 'breath', 'doth', 'earth', 'such', 'touch', 'faith', 'which'], 'am': ['am'], 'm$': ['am', 'from', 'whom', 'him'], 'an': ['and', 'angel', \"another's\", 'man', 'woman', 'an', 'many', 'ran', 'want', 'anger', 'can', 'constant', 'ignorant'], 'nd': ['and', 'fiend,', 'friend,', 'tender', 'commend;', 'comprehend.', 'thunder,', 'wonder;'], 'd$': ['and', \"smother'd\", \"untutor'd\", 'bad', \"colour'd\", 'good', \"turn'd\", 'would', 'could', 'did', \"gain'd\", 'hold', 'world', 'figured', 'lad', 'refused', 'showed', 'told', \"touch'd\", 'learned'], '$b': ['be', 'be.', 'believe', 'best', 'best,', 'but', 'bad', 'being', 'better', 'both', 'break', 'breath', 'breath,', 'broke', 'broke,', 'broken,', 'by', 'back,', 'bait,', \"beauty's\", 'brook', 'beauty', 'bent,', 'bias', 'book', \"bow'd.\"], 'be': ['be', 'be.', 'believe', 'best', 'best,', 'being', 'better', \"beauty's\", 'beauty', 'bent,'], 'e$': ['be', 'believe', 'false', 'have', 'lie', 'love', 'made', 'me', 'she', 'since', 'some', 'the', 'therefore', 'wherefore', 'female', 'fire', 'like', 'live', 'one', 'broke', 'deserve', 'disgrace', 'exhale', 'forswore', 'grace', 'persuade', 'thee', 'thine', 'wise', 'allure', 'gentle', 'he', 'here', 'none', 'rose', 'smile', 'take', 'unripe', 'eye', 'knowledge', 'make', 'praise', 'those', 'tongue', 'voice', 'where'], 'e.': ['be.', 'pride.', 'me.', 'mine.', 'fire.', 'tongue.'], '.$': ['be.', 'forgeries.', 'i.', 'rest.', 'told.', 'ii.', 'ill.', 'out.', 'pride.', 'iii.', 'me.', 'mine.', 'punishment.', 'chastity.', 'iv.', 'queen.', \"bow'd.\", 'comprehend.', 'fire.', 'tongue.', 'v.'], 'el': ['believe', 'angel', 'hell,', 'hell;', 'tell:', 'delight', 'fell', 'lovely', 'lovely,', 'celestial', 'myself', 'well'], 'li': ['believe', 'lie', 'lies,', 'smiling', 'like', 'live', 'delight', 'lightning'], 'ie': ['believe', 'forgeries.', 'lie', 'lies,', 'fiend,', 'friend,', 'stories', 'osiers'], 'ev': ['believe', 'devil,', 'evil', 'every', 'never'], 've': ['believe', 'have', 'love', \"love's\", 'love,', 'loves', 'have,', 'live', 'deserve', 'heavenly', 'love;', 'prove,', 'every', 'lovely', 'lovely,', \"heaven's\", \"jove's\", 'leaves,', 'love?', 'never', 'prove;'], 'es': ['best', 'best,', 'forgeries.', 'lies,', 'loves', 'rest.', 'despair,', 'guess', 'suggest', 'cures', 'deserve', 'goddess,', 'fresh,', 'jest', 'stories', 'touches', 'celestial', 'eyes,', 'leaves,', 'makes', 'pleasures', 'sees'], 'st': ['best', 'best,', 'past', 'rest.', 'still;', 'suggest', \"'gainst\", 'chastity.', 'jest', 'still', 'stories', 'celestial', 'constant', 'study'], 't$': ['best', 'but', 'credit', 'habit', 'might', 'not', 'past', 'that', 'comfort', 'corrupt', 'right', 'saint', 'spirit', 'suggest', 'suspect', 'yet', \"'gainst\", 'fault', 'heart', 'it', 'what', 'at', 'court', 'delight', 'jest', 'soft', 'sweet', 'want', 'art', 'constant', 'ignorant', 'without'], 't,': ['best,', 'doubt,', 'argument,', 'bait,', 'conceit,', 'heart,', 'art,', 'bent,'], 'bu': ['but'], 'ut': ['but', 'outfacing', 'truth,', \"untutor'd\", 'youth,', 'out.', 'truth', \"beauty's\", 'beauty', 'without'], '$c': ['credit', \"colour'd\", 'comfort', 'corrupt', 'could', 'cures', 'chastity.', 'conceit,', 'conquer', 'court', 'cytherea,', 'can', 'celestial', 'commend;', 'comprehend.', 'constant'], 'cr': ['credit'], 're': ['credit', 'rest.', 'therefore', 'therefore', 'wherefore', 'wherefore', 'directly', 'fire', 'break', 'breath', 'breath,', 'cures', 'forswore', 'forswore;', 'allure', 'cytherea,', 'figured', 'fresh,', 'green,', 'here', 'refused', 'there,--', 'admire:', 'comprehend.', 'dreadful', 'fire.', 'pleasures', 'where'], 'ed': ['credit', 'figured', 'refused', 'showed', 'knowledge', 'learned'], 'di': ['credit', 'directly', 'did', 'disgrace', 'paradise?'], 'it': ['credit', 'habit', 'with', 'purity', 'spirit', 'spirits', 'it', 'bait,', 'chastity.', 'conceit,', 'sitting', 'faith', 'without'], '$d': ['do', 'despair,', 'devil,', 'directly', 'doubt,', 'deserve', 'did', 'disgrace', 'doth', 'delight', 'dreadful'], 'do': ['do', 'doubt,', 'doth', 'adonis,'], 'o$': ['do', 'to', 'two', 'no', 'so', 'too', 'o'], '$f': ['false', 'false-speaking', 'faults', 'forgeries.', 'fair', 'fair,', 'female', 'fiend,', 'fire', 'for', 'friend,', 'from', 'fault', 'fool', 'forswore', 'forswore;', 'favors', 'fell', 'figured', 'fresh,', 'froward!', 'faith', 'fire.', 'forsworn,'], 'fa': ['false', 'false-speaking', 'faults', 'outfacing', 'fair', 'fair,', 'fault', 'favors', 'faith'], 'ls': ['false', 'false-speaking'], 'se': ['false', 'false-speaking', 'worser', 'deserve', 'paradise?', 'wise', 'refused', 'rose', 'myself', 'praise', 'praise,', 'seems,', 'sees', 'those'], 'e-': ['false-speaking'], '-s': ['false-speaking'], 'sp': ['false-speaking', 'despair,', 'spirit', 'spirits', 'suspect'], 'pe': ['false-speaking', 'suspect', 'perjury?', 'persuade', 'unripe'], 'ea': ['false-speaking', 'swears', 'years', 'each', 'break', 'breath', 'breath,', 'earth', 'earthly,', 'heart', 'heavenly', \"beauty's\", 'cytherea,', 'ear;', 'heart,', 'beauty', 'dreadful', 'earthly', \"heaven's\", 'learned', 'leaves,', 'pleasures', 'swear'], 'ak': ['false-speaking', 'break', 'take', 'make', 'makes', 'oaks,'], 'ki': ['false-speaking', 'thinking', 'unskilful'], 'in': ['false-speaking', 'in', 'outfacing', 'since', 'smiling', 'soothing', 'think', 'thinking', 'thinking', 'thinks', 'vainly', 'being', 'saint', 'win', 'wooing', \"'gainst\", \"gain'd\", 'mine.', 'shine,', 'thine', 'sitting', 'lightning', 'sing'], 'ng': ['false-speaking', 'outfacing', 'smiling', 'soothing', 'thinking', 'tongue,', 'young,', 'young?', 'angel', 'being', 'wooing', 'sitting', 'young', 'anger', 'lightning', 'sing', 'tongue', 'tongue.', 'wrong,'], 'g$': ['false-speaking', 'outfacing', 'smiling', 'soothing', 'thinking', 'being', 'wooing', 'sitting', 'young', 'lightning', 'sing'], 'au': ['faults', 'fault', \"beauty's\", 'beauty'], 'ul': ['faults', 'unskilful', 'would', 'could', 'fault', 'dreadful', 'soul'], 'ts': ['faults', 'spirits', 'parts', 'thoughts,'], 's$': ['faults', 'is', \"love's\", 'loves', 'says', 'swears', 'thinks', 'thus', \"world's\", 'years', \"another's\", 'guess', 'his', 'spirits', 'cures', 'this', 'vows', 'was', 'as', \"beauty's\", 'favors', 'looks', 'stories', 'touches', 'bias', \"heaven's\", \"jove's\", 'makes', 'osiers', 'parts', 'pleasures', 'sees'], 'fo': ['forgeries.', 'therefore', 'wherefore', 'comfort', 'for', 'fool', 'forswore', 'forswore;', 'forsworn,'], 'or': ['forgeries.', 'therefore', \"untutor'd\", 'wherefore', \"world's\", 'comfort', 'corrupt', 'for', 'worser', 'forswore', 'forswore', 'forswore;', 'forswore;', 'rhetoric', 'world', 'favors', 'or', 'stories', 'forsworn,', 'forsworn,', 'ignorant'], 'rg': ['forgeries.', 'argument,'], 'er': ['forgeries.', 'her', 'her,', \"smother'd\", 'therefore', 'wherefore', \"another's\", 'better', 'whether', 'worser', 'deserve', 'perjury?', 'persuade', 'conquer', 'cytherea,', 'every', 'here', 'nibbler', 'offer:', 'proffer,', 'tender', 'there,--', 'anger', 'never', 'osiers', 'thunder,', 'where', 'wonder;'], 'ri': ['forgeries.', 'friend,', 'pride.', 'purity', 'right', 'spirit', 'spirits', 'rhetoric', 'stories', 'unripe'], 's.': ['forgeries.'], '$h': ['habit', 'have', 'her', 'her,', 'have,', 'hell,', 'hell;', 'his', 'heart', 'heavenly', 'hold', 'he', 'heart,', 'here', 'him', \"heaven's\", 'hold,', 'how'], 'ha': ['habit', 'have', 'that', 'have,', 'shall', 'exhale', 'what', 'chastity.'], 'ab': ['habit'], 'bi': ['habit', 'bias'], 'av': ['have', 'have,', 'heavenly', 'favors', \"heaven's\", 'leaves,'], 'he': ['her', 'her,', 'she', \"smother'd\", 'the', 'therefore', 'when', 'wherefore', \"another's\", 'hell,', 'hell;', 'whether', 'whether', 'heart', 'heavenly', 'rhetoric', 'thee', 'thee:', 'then', 'then,', 'cytherea,', 'he', 'heart,', 'here', 'there,--', 'touches', 'comprehend.', \"heaven's\", 'where'], 'r$': ['her', 'our', 'better', 'fair', 'for', 'whether', 'worser', 'vapour', 'conquer', 'nibbler', 'or', 'tender', 'anger', 'never', 'swear'], 'r,': ['her,', 'despair,', 'fair,', 'proffer,', 'thunder,'], '$i': ['i', \"i'll\", 'i.', 'ill', 'in', 'is', 'ii.', 'ill.', 'if', 'iii.', 'is:', 'is;', 'it', 'iv.', 'ignorant'], 'i$': ['i'], \"i'\": [\"i'll\"], \"'l\": [\"i'll\"], 'll': [\"i'll\", 'ill', 'hell,', 'hell;', 'ill.', 'shall', 'still;', 'tell:', 'till', 'all', 'will', 'allure', 'fell', 'still', 'well'], 'l$': [\"i'll\", 'ill', 'unskilful', 'angel', 'evil', 'shall', 'till', 'all', 'fool', 'will', 'fell', 'still', 'celestial', 'dreadful', 'soul', 'well'], 'i.': ['i.', 'ii.', 'iii.'], 'il': ['ill', 'smiling', 'unskilful', 'devil,', 'evil', 'ill.', 'still;', 'till', 'will', 'smile', 'still'], 'n$': ['in', 'when', 'man', 'soon', 'win', 'woman', 'an', 'on', 'then', 'ran', 'can'], 'is': ['is', 'his', 'disgrace', 'is:', 'is;', 'paradise?', 'punishment.', 'this', 'wise', 'adonis,', 'praise', 'praise,'], '$k': ['know', 'know,', 'knowledge'], 'kn': ['know', 'know,', 'knowledge'], 'no': ['know', 'not', \"another's\", 'know,', 'no', 'none', 'ignorant', 'knowledge'], 'ow': ['know', 'know,', 'vow', 'vow;', 'vows', 'froward!', 'showed', 'toward:', \"bow'd.\", 'how', 'knowledge', \"vow'd:\"], 'w$': ['know', 'vow', 'how'], '$l': ['lie', 'lies,', 'love', \"love's\", 'love,', 'loves', 'like', 'live', 'love;', 'lad', 'look', 'look,', 'looks', 'lovely', 'lovely,', 'learned', 'leaves,', 'lightning', 'love?'], 's,': ['lies,', 'goddess,', 'adonis,', 'eyes,', 'leaves,', 'oaks,', 'seems,', 'thoughts,'], 'lo': ['love', \"love's\", 'love,', 'loves', \"colour'd\", 'love;', 'look', 'look,', 'looks', 'lovely', 'lovely,', 'love?'], 'ov': ['love', \"love's\", 'love,', 'loves', 'love;', 'prove,', 'lovely', 'lovely,', \"jove's\", 'love?', 'prove;'], \"e'\": [\"love's\", \"jove's\"], \"'s\": [\"love's\", \"world's\", \"another's\", \"beauty's\", \"heaven's\", \"jove's\"], '$m': ['made', 'me', 'me,', 'might', 'my', 'man', 'may,', 'me.', 'mine.', 'many', 'make', 'makes', 'mark,', 'music', 'myself'], 'ma': ['made', 'female', 'man', 'may,', 'woman', 'many', 'make', 'makes', 'mark,'], 'ad': ['made', 'bad', 'paradise?', 'persuade', 'adonis,', 'lad', 'admire:', 'dreadful'], 'de': ['made', 'despair,', 'devil,', 'pride.', 'side,', 'deserve', 'goddess,', 'persuade', 'delight', 'tender', 'thunder,', 'wonder;'], 'me': ['me', 'me,', 'some', 'argument,', 'me.', 'punishment.', 'commend;'], 'mi': ['might', 'smiling', 'mine.', 'smile', 'admire:'], 'ig': ['might', 'right', 'delight', 'figured', 'ignorant', 'lightning'], 'ht': ['might', 'right', 'delight', 'lightning', 'thoughts,'], 'my': ['my', 'myself'], 'y$': ['my', 'say', 'vainly', 'directly', 'purity', 'by', 'heavenly', 'thy', 'every', 'lovely', 'many', 'beauty', 'earthly', 'study'], '$n': ['not', 'no', 'nibbler', 'none', 'never'], 'ot': ['not', \"smother'd\", 'soothing', \"another's\", 'both', 'doth'], '$o': ['o,', 'of', 'old?', 'our', 'outfacing', 'one', 'out.', 'oath,', 'on', 'offer:', 'or', 'o', 'oaks,', 'osiers'], 'o,': ['o,'], 'of': ['of', 'offer:', 'proffer,', 'soft'], 'f$': ['of', 'if', 'myself'], 'ol': ['old?', 'told.', \"colour'd\", 'fool', 'hold', 'told', 'hold,'], 'ld': ['old?', 'told.', \"world's\", 'would', 'could', 'hold', 'world', 'told', 'hold,'], 'd?': ['old?'], '?$': ['old?', 'young?', 'paradise?', 'perjury?', 'love?'], 'ur': ['our', \"colour'd\", 'purity', \"turn'd\", 'cures', 'perjury?', 'vapour', 'allure', 'court', 'figured', 'pleasures'], 'tf': ['outfacing'], 'ac': ['outfacing', 'each', 'disgrace', 'grace', 'back,'], 'ci': ['outfacing'], '$p': ['past', 'pride.', 'purity', 'paradise?', 'perjury?', 'persuade', 'prove,', 'punishment.', 'proffer,', 'parts', 'pleasures', 'praise', 'praise,', 'prove;'], 'pa': ['past', 'despair,', 'paradise?', 'parts'], 'as': ['past', 'was', 'as', 'chastity.', 'bias', 'pleasures'], '$r': ['rest.', 'right', 'rhetoric', 'ran', 'refused', 'rose'], 't.': ['rest.', 'out.', 'punishment.'], '$s': ['say', 'says', 'she', 'since', 'smiling', \"smother'd\", 'some', 'soothing', 'swears', 'saint', 'shall', 'side,', 'soon', 'spirit', 'spirits', 'still;', 'suggest', 'suspect', 'shine,', 'so', 'sun,', 'showed', 'sitting', 'smile', 'soft', 'still', 'stories', 'such', 'sweet', 'seems,', 'sees', 'sing', 'soul', 'study', 'suffice;', 'swear'], 'sa': ['say', 'says', 'saint'], 'ay': ['say', 'says', 'may,', 'away;'], 'ys': ['says', 'myself'], 'sh': ['she', 'shall', 'punishment.', 'shine,', 'fresh,', 'showed'], 'si': ['since', 'side,', 'sitting', 'music', 'osiers', 'sing'], 'nc': ['since', 'conceit,'], 'ce': ['since', 'disgrace', 'grace', 'conceit,', 'celestial', 'suffice;', 'voice'], 'sm': ['smiling', \"smother'd\", 'smile'], 'mo': [\"smother'd\"], \"r'\": [\"smother'd\", \"untutor'd\", \"another's\", \"colour'd\"], \"'d\": [\"smother'd\", \"untutor'd\", \"colour'd\", \"turn'd\", \"gain'd\", \"touch'd\", \"bow'd.\", \"vow'd:\"], 'so': ['some', 'soothing', 'soon', 'so', 'soft', 'soul'], 'om': ['some', 'comfort', 'from', 'woman', 'whom', 'commend;', 'comprehend.'], 'oo': ['soothing', 'good', 'soon', 'wooing', 'fool', 'brook', 'look', 'look,', 'looks', 'too', 'book'], 'hi': ['soothing', 'think', 'thinking', 'thinks', 'his', 'shine,', 'thine', 'this', 'him', 'which', 'which,'], 'sw': ['swears', 'forswore', 'forswore;', 'sweet', 'forsworn,', 'swear'], 'we': ['swears', 'showed', 'sweet', 'swear', 'well'], 'ar': ['swears', 'years', 'argument,', 'earth', 'earthly,', 'heart', 'paradise?', 'ear;', 'froward!', 'heart,', 'toward:', 'art', 'art,', 'earthly', 'learned', 'mark,', 'parts', 'swear'], 'rs': ['swears', 'years', 'worser', 'forswore', 'forswore;', 'persuade', 'favors', 'forsworn,', 'osiers'], '$t': ['that', 'the', 'therefore', 'think', 'thinking', 'thinks', 'though', 'thus', 'to', 'told.', 'tongue,', 'truth,', 'tell:', 'tempteth', 'till', 'truth', \"turn'd\", 'two', 'thee', 'thee:', 'then', 'then,', 'thine', 'this', 'thou', 'thy', 'take', 'tender', 'there,--', 'told', 'too', 'touch', \"touch'd\", 'touches', 'toward:', 'those', 'thoughts,', 'thunder,', 'tongue', 'tongue.'], 'at': ['that', 'breath', 'breath,', 'oath,', 'what', 'at'], 'ef': ['therefore', 'wherefore', 'refused'], 'nk': ['think', 'thinking', 'thinks'], 'k$': ['think', 'break', 'brook', 'look', 'book'], 'ks': ['thinks', 'looks', 'oaks,'], 'hu': ['thus', 'thunder,'], 'us': ['thus', 'suspect', 'refused', 'music'], 'to': ['to', 'told.', 'tongue,', \"untutor'd\", 'rhetoric', 'stories', 'told', 'too', 'touch', \"touch'd\", 'touches', 'toward:', 'tongue', 'tongue.'], 'd.': ['told.', \"bow'd.\", 'comprehend.'], 'on': ['tongue,', 'one', 'soon', 'on', 'adonis,', 'conceit,', 'conquer', 'none', 'constant', 'tongue', 'tongue.', 'wonder;', 'wrong,'], 'gu': ['tongue,', 'guess', 'argument,', 'figured', 'tongue', 'tongue.'], 'ue': ['tongue,', 'guess', 'conquer', 'queen,', 'queen.', 'tongue', 'tongue.'], 'tr': ['truth,', 'truth'], 'ru': ['truth,', 'corrupt', 'truth'], 'h,': ['truth,', 'youth,', 'breath,', 'oath,', 'ah,', 'fresh,', 'which,'], '$u': ['unskilful', \"untutor'd\", 'unripe'], 'un': ['unskilful', \"untutor'd\", 'young,', 'young?', 'punishment.', 'sun,', 'unripe', 'young', 'thunder,'], 'ns': ['unskilful', \"'gainst\", 'constant'], 'sk': ['unskilful'], 'lf': ['unskilful', 'myself'], 'fu': ['unskilful', 'refused', 'dreadful'], 'nt': [\"untutor'd\", 'saint', 'argument,', 'punishment.', 'gentle', 'want', 'bent,', 'constant', 'ignorant'], 'tu': [\"untutor'd\", \"turn'd\", 'study'], '$v': ['vainly', 'vapour', 'vow', 'vow;', 'vows', 'v.', 'voice', \"vow'd:\"], 'va': ['vainly', 'vapour'], 'ai': ['vainly', 'despair,', 'fair', 'fair,', 'saint', \"'gainst\", \"gain'd\", 'bait,', 'faith', 'praise', 'praise,'], 'nl': ['vainly', 'heavenly'], 'ly': ['vainly', 'directly', 'earthly,', 'heavenly', 'lovely', 'lovely,', 'earthly'], '$w': ['when', 'wherefore', 'with', \"world's\", 'whether', 'win', 'woman', 'wooing', 'worser', 'would', 'was', 'what', 'whom', 'will', 'wise', 'world', 'want', 'well', 'where', 'which', 'which,', 'without', 'wonder;', 'wrong,'], 'wh': ['when', 'wherefore', 'whether', 'what', 'whom', 'where', 'which', 'which,'], 'en': ['when', 'fiend,', 'friend,', 'argument,', 'broken,', 'heavenly', 'punishment.', 'then', 'then,', 'gentle', 'green,', 'queen,', 'queen.', 'tender', 'bent,', 'commend;', 'comprehend.', \"heaven's\"], 'wi': ['with', 'win', 'will', 'wise', 'without'], 'wo': [\"world's\", 'two', 'woman', 'wooing', 'worser', 'would', 'forswore', 'forswore;', 'world', 'forsworn,', 'wonder;'], 'rl': [\"world's\", 'world'], \"d'\": [\"world's\"], '$y': ['years', 'young,', 'young?', 'youth,', 'yet', 'young'], 'ye': ['years', 'yet', 'eye,', 'eye;', 'eye', 'eyes,'], 'yo': ['young,', 'young?', 'youth,', 'young'], 'g,': ['young,', 'wrong,'], 'g?': ['young?'], 'ba': ['bad', 'back,', 'bait,'], 'ei': ['being', 'conceit,'], 'et': ['better', 'tempteth', 'whether', 'yet', 'rhetoric', 'sweet'], 'tt': ['better', 'sitting'], 'te': ['better', 'tell:', 'tempteth', 'tempteth', 'tender'], 'bo': ['both', 'book', \"bow'd.\"], 'co': [\"colour'd\", 'comfort', 'corrupt', 'could', 'conceit,', 'conquer', 'court', 'commend;', 'comprehend.', 'constant'], 'mf': ['comfort'], 'rt': ['comfort', 'earth', 'earthly,', 'heart', 'court', 'heart,', 'art', 'art,', 'earthly', 'parts'], 'rr': ['corrupt'], 'up': ['corrupt'], 'pt': ['corrupt', 'tempteth'], 'ir': ['despair,', 'directly', 'fair', 'fair,', 'fire', 'spirit', 'spirits', 'admire:', 'fire.'], 'vi': ['devil,', 'evil'], 'l,': ['devil,', 'hell,'], 'ec': ['directly', 'suspect'], 'ct': ['directly', 'suspect'], 'tl': ['directly', 'gentle'], 'ub': ['doubt,'], 'bt': ['doubt,'], '$e': ['each', 'evil', 'earth', 'earthly,', 'exhale', 'eye,', 'ear;', 'every', 'eye;', 'earthly', 'eye', 'eyes,'], 'ch': ['each', 'chastity.', 'such', 'touch', \"touch'd\", 'touches', 'which', 'which,'], 'fe': ['female', 'fell', 'offer:', 'proffer,'], 'em': ['female', 'tempteth', 'seems,'], 'le': ['female', 'exhale', 'gentle', 'nibbler', 'smile', 'celestial', 'knowledge', 'learned', 'leaves,', 'pleasures'], 'fi': ['fiend,', 'fire', 'figured', 'fire.', 'suffice;'], 'd,': ['fiend,', 'friend,', 'hold,'], 'fr': ['friend,', 'from', 'fresh,', 'froward!'], 'ro': ['from', 'broke', 'broke,', 'broken,', 'prove,', 'brook', 'froward!', 'proffer,', 'rose', 'prove;', 'wrong,'], '$g': ['good', 'guess', \"gain'd\", 'goddess,', 'grace', 'gentle', 'green,'], 'go': ['good', 'goddess,'], 'od': ['good', 'goddess,'], 'ss': ['guess', 'goddess,'], 'l;': ['hell;', 'still;'], ';$': ['hell;', 'still;', 'forswore;', 'is;', 'love;', 'vow;', 'away;', 'ear;', 'eye;', 'commend;', 'prove;', 'suffice;', 'wonder;'], 'ii': ['ii.', 'iii.', 'iii.'], 'l.': ['ill.'], 'w,': ['know,'], 'ik': ['like'], 'ke': ['like', 'broke', 'broke,', 'broken,', 'take', 'make', 'makes'], 'iv': ['live', 'iv.'], 'y,': ['may,', 'earthly,', 'lovely,'], 'ne': ['one', 'mine.', 'shine,', 'thine', 'none', 'learned', 'never'], 'pr': ['pride.', 'prove,', 'proffer,', 'comprehend.', 'praise', 'praise,', 'prove;'], 'id': ['pride.', 'side,', 'did'], 'pu': ['purity', 'punishment.'], 'ty': ['purity', \"beauty's\", 'chastity.', 'beauty'], 'pi': ['spirit', 'spirits'], 'ti': ['still;', 'till', 'chastity.', 'sitting', 'still', 'celestial'], 'su': ['suggest', 'suspect', 'persuade', 'sun,', 'such', 'pleasures', 'suffice;'], 'gg': ['suggest'], 'l:': ['tell:'], ':$': ['tell:', 'is:', 'thee:', 'offer:', 'toward:', 'admire:', \"vow'd:\"], 'mp': ['tempteth', 'comprehend.'], 'rn': [\"turn'd\", 'forsworn,', 'learned'], \"n'\": [\"turn'd\", \"gain'd\", \"heaven's\"], 'tw': ['two'], 'oi': ['wooing', 'voice'], \"$'\": [\"'gainst\"], \"'g\": [\"'gainst\"], 'ga': [\"'gainst\", \"gain'd\"], 'um': ['argument,'], 'br': ['break', 'breath', 'breath,', 'broke', 'broke,', 'broken,', 'brook'], 'ok': ['broke', 'broke,', 'broken,', 'brook', 'look', 'look,', 'looks', 'book'], 'n,': ['broken,', 'sun,', 'then,', 'green,', 'queen,', 'forsworn,'], 'by': ['by'], 'cu': ['cures'], 'rv': ['deserve'], 'sg': ['disgrace'], 'gr': ['disgrace', 'grace', 'green,'], 'ra': ['disgrace', 'grace', 'paradise?', 'ran', 'ignorant', 'praise', 'praise,'], 'hl': ['earthly,', 'earthly'], 'ex': ['exhale'], 'xh': ['exhale'], 'ey': ['eye,', 'eye;', 'eye', 'eyes,'], 'e;': ['forswore;', 'love;', 'eye;', 'prove;', 'suffice;'], 'dd': ['goddess,'], 'if': ['if'], 's:': ['is:'], 's;': ['is;'], 'oa': ['oath,', 'oaks,'], 'e?': ['paradise?', 'love?'], 'rj': ['perjury?'], 'ju': ['perjury?'], 'ry': ['perjury?', 'every'], 'y?': ['perjury?'], 'ua': ['persuade'], 'ni': ['punishment.', 'adonis,', 'nibbler', 'lightning'], 'hm': ['punishment.'], 'rh': ['rhetoric'], 'ic': ['rhetoric', 'music', 'suffice;', 'voice', 'which', 'which,'], 'c$': ['rhetoric', 'music'], 'ee': ['thee', 'thee:', 'green,', 'queen,', 'queen.', 'sweet', 'seems,', 'sees'], 'e:': ['thee:', 'admire:'], 'u$': ['thou'], 'hy': ['thy'], 'ap': ['vapour'], 'po': ['vapour'], 'vo': ['vow', 'vow;', 'vows', 'favors', 'voice', \"vow'd:\"], 'w;': ['vow;'], 'ws': ['vows'], 'wa': ['was', 'away;', 'froward!', 'toward:', 'want'], 'ah': ['ah,'], 'lu': ['allure'], 'aw': ['away;'], 'y;': ['away;'], 'ck': ['back,'], 'k,': ['back,', 'look,', 'mark,'], \"y'\": [\"beauty's\"], 'y.': ['chastity.'], 'nq': ['conquer'], 'qu': ['conquer', 'queen,', 'queen.'], 'cy': ['cytherea,'], 'yt': ['cytherea,'], 'a,': ['cytherea,'], 'r;': ['ear;', 'wonder;'], 'rd': ['froward!', 'toward:'], 'd!': ['froward!'], '!$': ['froward!'], 'im': ['him'], 'v.': ['iv.', 'v.'], '$j': ['jest', \"jove's\"], 'je': ['jest'], 'la': ['lad'], 'ny': ['many'], 'ib': ['nibbler'], 'bb': ['nibbler'], 'bl': ['nibbler'], 'ff': ['offer:', 'proffer,', 'suffice;'], 'r:': ['offer:'], '$q': ['queen,', 'queen.'], 'n.': ['queen.'], 'os': ['rose', 'osiers', 'those'], 'ft': ['soft'], 'uc': ['such', 'touch', \"touch'd\", 'touches'], 'ta': ['take', 'constant'], ',-': ['there,--'], '--': ['there,--'], '-$': ['there,--'], \"h'\": [\"touch'd\"], 'd:': ['toward:', \"vow'd:\"], 'nr': ['unripe'], 'ip': ['unripe'], 'dm': ['admire:'], 'ia': ['bias', 'celestial'], \"w'\": [\"bow'd.\", \"vow'd:\"], 'ca': ['can'], 'mm': ['commend;'], 'd;': ['commend;'], 'eh': ['comprehend.'], 'dr': ['dreadful'], 'df': ['dreadful'], 'gn': ['ignorant'], 'jo': [\"jove's\"], 'wl': ['knowledge'], 'dg': ['knowledge'], 'tn': ['lightning'], 'rk': ['mark,'], 'mu': ['music'], 'pl': ['pleasures'], 'ms': ['seems,'], 'ud': ['study'], 'dy': ['study'], 'uf': ['suffice;'], 'wr': ['wrong,']}\n"
     ]
    }
   ],
   "source": [
    "bgm = BigramIndex()\n",
    "bgm.buildIndex()"
   ]
  },
  {
   "cell_type": "code",
   "execution_count": 19,
   "id": "0a463e87",
   "metadata": {},
   "outputs": [
    {
     "name": "stdout",
     "output_type": "stream",
     "text": [
      "<__main__.BigramIndex object at 0x000001D797551610>\n"
     ]
    }
   ],
   "source": [
    "print(bgm)"
   ]
  },
  {
   "cell_type": "markdown",
   "id": "93060650-9be0-44bf-bf78-f54fa8cbd5ab",
   "metadata": {},
   "source": [
    "----"
   ]
  },
  {
   "cell_type": "markdown",
   "id": "ed405998-ce72-446c-a72e-97b8ab30e07a",
   "metadata": {},
   "source": [
    "# 7. b) Process wildcard queries"
   ]
  },
  {
   "cell_type": "code",
   "execution_count": 16,
   "id": "61740529-7b04-4cc0-a90e-be5f32b58382",
   "metadata": {},
   "outputs": [],
   "source": [
    "class Query:\n",
    "\n",
    "    def __init__(self, query):\n",
    "        self.query = query\n",
    "        self.bigram = BigramIndex()\n",
    "        self.bigram.buildIndex()\n",
    "\n",
    "    def processQuery(self):\n",
    "        token = '$' + self.query\n",
    "        tokens = [token[i:i+2] for i in range(len(token)-1)]\n",
    "        print(tokens)\n",
    "        ans = []\n",
    "        for t in tokens:\n",
    "            if t in self.bigram.index:\n",
    "                for k in self.bigram.index[t]:\n",
    "                    if k not in ans:\n",
    "                        ans.append(k)\n",
    "        if self.query[0] == '*':\n",
    "            result = [{d: self.bigram.invIdx[d]} for d in ans if d.endswith(self.query[1:])]    \n",
    "        elif self.query[-1] == '*':\n",
    "            result = [{d: self.bigram.invIdx[d]} for d in ans if d.startswith(self.query[:-1])]\n",
    "        else:\n",
    "            qt = self.query.split('*')\n",
    "            result = [{d: self.bigram.invIdx[d]} for d in ans if d.startswith(qt[0]) and d.endswith(qt[1])]\n",
    "        print(result)\n",
    "        print(\"Documents retrieved: \")\n",
    "        for term in result:\n",
    "            for k, v in term.items():\n",
    "                print(k)\n",
    "                for i in v:\n",
    "                    print(self.bigram.docs[i])\n",
    "                    print()"
   ]
  },
  {
   "cell_type": "code",
   "execution_count": 17,
   "id": "faf862ee-03e6-41ba-a4c2-b1ca31268f7e",
   "metadata": {
    "scrolled": false
   },
   "outputs": [
    {
     "name": "stdout",
     "output_type": "stream",
     "text": [
      "Enter the query:*ne\n",
      "['$*', '*n', 'ne']\n",
      "[{'one': [1]}, {'thine': [2, 4]}, {'none': [3]}]\n",
      "Documents retrieved: \n",
      "one\n",
      "\n",
      "ii.\n",
      "\n",
      "two loves i have, of comfort and despair,\n",
      "that like two spirits do suggest me still;\n",
      "my better angel is a man right fair,\n",
      "my worser spirit a woman colour'd ill.\n",
      "to win me soon to hell, my female evil\n",
      "tempteth my better angel from my side,\n",
      "and would corrupt my saint to be a devil,\n",
      "wooing his purity with her fair pride.\n",
      "and whether that my angel be turn'd fiend,\n",
      "suspect i may, yet not directly tell:\n",
      "for being both to me, both to each friend,\n",
      "i guess one angel in another's hell;\n",
      "the truth i shall not know, but live in doubt,\n",
      "till my bad angel fire my good one out.\n",
      "\n",
      "\n",
      "\n",
      "\n",
      "thine\n",
      "\n",
      "iii.\n",
      "\n",
      "did not the heavenly rhetoric of thine eye,\n",
      "'gainst whom the world could not hold argument,\n",
      "persuade my heart to this false perjury?\n",
      "vows for thee broke deserve not punishment.\n",
      "a woman i forswore; but i will prove,\n",
      "thou being a goddess, i forswore not thee:\n",
      "my vow was earthly, thou a heavenly love;\n",
      "thy grace being gain'd cures all disgrace in me.\n",
      "my vow was breath, and breath a vapour is;\n",
      "then, thou fair sun, that on this earth doth shine,\n",
      "exhale this vapour vow; in thee it is:\n",
      "if broken, then it is no fault of mine.\n",
      "if by me broke, what fool is not so wise\n",
      "to break an oath, to win a paradise?\n",
      "\n",
      "\n",
      "\n",
      "\n",
      "\n",
      "v.\n",
      "\n",
      "if love make me forsworn, how shall i swear to love?\n",
      "o never faith could hold, if not to beauty vow'd:\n",
      "though to myself forsworn, to thee i'll constant prove;\n",
      "those thoughts, to me like oaks, to thee like osiers bow'd.\n",
      "study his bias leaves, and makes his book thine eyes,\n",
      "where all those pleasures live that art can comprehend.\n",
      "if knowledge be the mark, to know thee shall suffice;\n",
      "well learned is that tongue that well can thee commend;\n",
      "all ignorant that soul that sees thee without wonder;\n",
      "which is to me some praise, that i thy parts admire:\n",
      "thine eye jove's lightning seems, thy voice his dreadful\n",
      "thunder,\n",
      "which, not to anger bent, is music and sweet fire.\n",
      "celestial as thou art, o do not love that wrong,\n",
      "to sing heaven's praise with such an earthly tongue.\n",
      "\n",
      "\n",
      "\n",
      "\n",
      "none\n",
      "\n",
      "iv.\n",
      "\n",
      "sweet cytherea, sitting by a brook\n",
      "with young adonis, lovely, fresh, and green,\n",
      "did court the lad with many a lovely look,\n",
      "such looks as none could look but beauty's queen.\n",
      "she told him stories to delight his ear;\n",
      "she showed him favors to allure his eye;\n",
      "to win his heart, she touch'd him here and there,--\n",
      "touches so soft still conquer chastity.\n",
      "but whether unripe years did want conceit,\n",
      "or he refused to take her figured proffer,\n",
      "the tender nibbler would not touch the bait,\n",
      "but smile and jest at every gentle offer:\n",
      "then fell she on her back, fair queen, and toward:\n",
      "he rose and ran away; ah, fool too froward!\n",
      "\n",
      "\n",
      "\n",
      "\n"
     ]
    }
   ],
   "source": [
    "q = Query(input(\"Enter the query:\"))\n",
    "q.processQuery()\n",
    "# print(\"\\nBi-gram Index:\")\n",
    "# for key, val in q.bigram.index.items():\n",
    "#     print(key)\n",
    "#     for i in val:\n",
    "#         print(\"\\t\",i)"
   ]
  },
  {
   "cell_type": "code",
   "execution_count": 9,
   "id": "0c3ec126",
   "metadata": {},
   "outputs": [
    {
     "ename": "TypeError",
     "evalue": "cannot convert dictionary update sequence element #0 to a sequence",
     "output_type": "error",
     "traceback": [
      "\u001b[1;31m---------------------------------------------------------------------------\u001b[0m",
      "\u001b[1;31mTypeError\u001b[0m                                 Traceback (most recent call last)",
      "Cell \u001b[1;32mIn[9], line 2\u001b[0m\n\u001b[0;32m      1\u001b[0m d \u001b[38;5;241m=\u001b[39m {\u001b[38;5;241m1\u001b[39m:[\u001b[38;5;241m2\u001b[39m,\u001b[38;5;241m3\u001b[39m],\u001b[38;5;241m2\u001b[39m:[\u001b[38;5;241m3\u001b[39m,\u001b[38;5;241m8\u001b[39m],\u001b[38;5;241m4\u001b[39m:[\u001b[38;5;241m5\u001b[39m,\u001b[38;5;241m6\u001b[39m]}\n\u001b[1;32m----> 2\u001b[0m \u001b[43md\u001b[49m\u001b[38;5;241;43m.\u001b[39;49m\u001b[43mupdate\u001b[49m\u001b[43m(\u001b[49m\u001b[43m(\u001b[49m\u001b[38;5;241;43m5\u001b[39;49m\u001b[43m,\u001b[49m\u001b[43m[\u001b[49m\u001b[38;5;241;43m3\u001b[39;49m\u001b[43m,\u001b[49m\u001b[38;5;241;43m4\u001b[39;49m\u001b[43m]\u001b[49m\u001b[43m)\u001b[49m\u001b[43m)\u001b[49m\n\u001b[0;32m      3\u001b[0m d\n",
      "\u001b[1;31mTypeError\u001b[0m: cannot convert dictionary update sequence element #0 to a sequence"
     ]
    }
   ],
   "source": [
    "d = {1:[2,3],2:[3,8],4:[5,6]}\n",
    "d.update((5,[3,4]))\n",
    "d"
   ]
  }
 ],
 "metadata": {
  "kernelspec": {
   "display_name": "Python 3 (ipykernel)",
   "language": "python",
   "name": "python3"
  },
  "language_info": {
   "codemirror_mode": {
    "name": "ipython",
    "version": 3
   },
   "file_extension": ".py",
   "mimetype": "text/x-python",
   "name": "python",
   "nbconvert_exporter": "python",
   "pygments_lexer": "ipython3",
   "version": "3.11.5"
  }
 },
 "nbformat": 4,
 "nbformat_minor": 5
}
